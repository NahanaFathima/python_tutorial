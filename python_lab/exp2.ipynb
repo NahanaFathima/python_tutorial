{
 "cells": [
  {
   "cell_type": "code",
   "execution_count": 2,
   "id": "8db31f3d-2b79-4864-a9cb-01f0798edd9f",
   "metadata": {},
   "outputs": [
    {
     "name": "stdout",
     "output_type": "stream",
     "text": [
      "1\n",
      "2\n",
      "3\n",
      "4\n",
      "5\n",
      "6\n",
      "7\n",
      "8\n",
      "9\n",
      "10\n"
     ]
    }
   ],
   "source": [
    "n=1\n",
    "while n<=10:\n",
    "    print(n)\n",
    "    n+=1"
   ]
  },
  {
   "cell_type": "code",
   "execution_count": 3,
   "id": "f8de1fb1-cef2-4668-85f5-4107ca1655a8",
   "metadata": {},
   "outputs": [
    {
     "name": "stdin",
     "output_type": "stream",
     "text": [
      "enter the number: 5\n"
     ]
    },
    {
     "name": "stdout",
     "output_type": "stream",
     "text": [
      "5*1=5\n",
      "5*2=10\n",
      "5*3=15\n",
      "5*4=20\n",
      "5*5=25\n",
      "5*6=30\n",
      "5*7=35\n",
      "5*8=40\n",
      "5*9=45\n",
      "5*10=50\n"
     ]
    }
   ],
   "source": [
    "n=int(input(\"enter the number:\"))\n",
    "for i in range (1,11):\n",
    "    print(f\"{n}*{i}={n*i}\")"
   ]
  },
  {
   "cell_type": "code",
   "execution_count": 4,
   "id": "388539de-9a3d-433f-8eb9-2c250997f7ae",
   "metadata": {},
   "outputs": [
    {
     "name": "stdout",
     "output_type": "stream",
     "text": [
      "* \n",
      "* * \n",
      "* * * \n",
      "* * * * \n",
      "* * * * * \n"
     ]
    }
   ],
   "source": [
    "row=5\n",
    "for i in range(1,row+1):\n",
    "    for j in range (i):\n",
    "        print(\"*\",end=\" \")\n",
    "    print()"
   ]
  },
  {
   "cell_type": "code",
   "execution_count": 10,
   "id": "05d15f73-8ca5-4ca3-a58b-4edbfd95074d",
   "metadata": {},
   "outputs": [
    {
     "name": "stdout",
     "output_type": "stream",
     "text": [
      "['apple', 'orange', 'banana', 'grapes', 'guava']\n",
      "['apple', 'orange', 'banana', 'grapes', 'guava']\n",
      "['apple', 'orange', 'banana', 'grapes', 'guava']\n",
      "['apple', 'orange', 'banana', 'grapes', 'guava']\n",
      "['apple', 'orange', 'banana', 'grapes', 'guava']\n"
     ]
    }
   ],
   "source": [
    "fruits=[\"apple\",\"orange\",\"banana\",\"grapes\",\"guava\"]\n",
    "for fruit in fruits:\n",
    "    print(fruits)"
   ]
  },
  {
   "cell_type": "code",
   "execution_count": 13,
   "id": "7abfa8ba-fae8-4f43-a206-27fa85abbc5a",
   "metadata": {},
   "outputs": [
    {
     "name": "stdout",
     "output_type": "stream",
     "text": [
      "dsd:86 marks\n",
      "kue:98 marks\n",
      "ett:77 marks\n"
     ]
    }
   ],
   "source": [
    "students={\"dsd\":86,\"kue\":98,\"ett\":77}\n",
    "for name,marks in students.items():\n",
    "    print(f\"{name}:{marks} marks\")\n",
    "    "
   ]
  },
  {
   "cell_type": "code",
   "execution_count": 16,
   "id": "edb28dd9-8b11-48d0-96cc-d1a983411be2",
   "metadata": {},
   "outputs": [
    {
     "name": "stdout",
     "output_type": "stream",
     "text": [
      "third item: 6\n"
     ]
    }
   ],
   "source": [
    "n=[2,4,6,8,10]\n",
    "print(\"third item:\",n[2])"
   ]
  },
  {
   "cell_type": "code",
   "execution_count": 30,
   "id": "aadf3243-38a4-410f-a134-424ba28e0bf9",
   "metadata": {},
   "outputs": [
    {
     "name": "stdout",
     "output_type": "stream",
     "text": [
      "{1, 2, 3, 4, 5}\n"
     ]
    }
   ],
   "source": [
    "s1={1,2,2,3,4,3,4,5}\n",
    "print(s1)"
   ]
  },
  {
   "cell_type": "code",
   "execution_count": 41,
   "id": "3a76a412-2c21-476b-8fe5-2aefda346999",
   "metadata": {},
   "outputs": [
    {
     "name": "stdout",
     "output_type": "stream",
     "text": [
      "1st 6 characters: python\n",
      "last 6 charcters: amming\n",
      "every second character: pto rgamn\n",
      "reversed string: gnimmargorp nohtyp\n"
     ]
    }
   ],
   "source": [
    "string=\"python programming\"\n",
    "print(\"1st 6 characters:\",string[:6])\n",
    "print(\"last 6 charcters:\",string[-6:])\n",
    "print(\"every second character:\",string[::2])\n",
    "print(\"reversed string:\",string[::-1])"
   ]
  },
  {
   "cell_type": "code",
   "execution_count": 42,
   "id": "d18be641-e11e-461b-a7a2-f285699b8a42",
   "metadata": {},
   "outputs": [
    {
     "name": "stdout",
     "output_type": "stream",
     "text": [
      "[1, 4, 9, 16, 25, 36, 49, 64, 81, 100]\n"
     ]
    }
   ],
   "source": [
    "sq=[x**2 for x in range(1,11)]\n",
    "print(sq)"
   ]
  },
  {
   "cell_type": "code",
   "execution_count": null,
   "id": "a5f523cb-77cb-4684-9a92-0fb9f1f1d85f",
   "metadata": {},
   "outputs": [],
   "source": []
  },
  {
   "cell_type": "code",
   "execution_count": 47,
   "id": "3cf09a5d-8e23-4489-a43b-c54bd3f2b884",
   "metadata": {},
   "outputs": [
    {
     "name": "stdout",
     "output_type": "stream",
     "text": [
      "[2, 4, 6, 8, 10, 12, 14, 16, 18, 20, 22, 24, 26, 28, 30, 32, 34, 36, 38, 40, 42, 44, 46, 48, 50]\n"
     ]
    }
   ],
   "source": [
    "even=[x for x in range(1,51) if x%2==0 ]\n",
    "print(even)"
   ]
  },
  {
   "cell_type": "code",
   "execution_count": 49,
   "id": "81c0c7b3-7754-4cf6-9541-2131db0a0ccf",
   "metadata": {},
   "outputs": [
    {
     "name": "stdout",
     "output_type": "stream",
     "text": [
      "['yguyft', 'rdytfyt']\n"
     ]
    }
   ],
   "source": [
    "words=[\"apple\",\"egg\",\"ti\",\"yguyft\",\"rdytfyt\"]\n",
    "long=[word for word in words if len(word)>5]\n",
    "print(long)"
   ]
  },
  {
   "cell_type": "code",
   "execution_count": 52,
   "id": "3653c21b-70ca-4220-81f7-f9a028407731",
   "metadata": {},
   "outputs": [
    {
     "name": "stdout",
     "output_type": "stream",
     "text": [
      "A 1\n",
      "B 2\n"
     ]
    }
   ],
   "source": [
    "class student:\n",
    "    def __init__(self,name,grade):\n",
    "        self.name=name\n",
    "        self.grade=grade\n",
    "    def get_name(self):\n",
    "        return self.name\n",
    "    def get_grade(self):\n",
    "        return self.grade\n",
    "    def set_name(self,name):\n",
    "        self.name=name\n",
    "    def set_grade(self,grade):\n",
    "        self.grade=grade\n",
    "s1=student(\"A\",1)\n",
    "s2=student(\"B\",2)\n",
    "print(s1.name,s1.grade)\n",
    "print(s2.name,s2.grade)"
   ]
  },
  {
   "cell_type": "code",
   "execution_count": null,
   "id": "5767df5c-0582-4720-bb3e-2226498b051d",
   "metadata": {},
   "outputs": [],
   "source": []
  }
 ],
 "metadata": {
  "kernelspec": {
   "display_name": "Python 3 (ipykernel)",
   "language": "python",
   "name": "python3"
  },
  "language_info": {
   "codemirror_mode": {
    "name": "ipython",
    "version": 3
   },
   "file_extension": ".py",
   "mimetype": "text/x-python",
   "name": "python",
   "nbconvert_exporter": "python",
   "pygments_lexer": "ipython3",
   "version": "3.10.12"
  }
 },
 "nbformat": 4,
 "nbformat_minor": 5
}
