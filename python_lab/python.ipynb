{
 "cells": [
  {
   "cell_type": "code",
   "execution_count": 1,
   "id": "d431569f-a23f-4cbf-91fa-9adde01105cf",
   "metadata": {},
   "outputs": [
    {
     "name": "stdout",
     "output_type": "stream",
     "text": [
      "hello world\n"
     ]
    }
   ],
   "source": [
    "print(\"hello world\")"
   ]
  },
  {
   "cell_type": "code",
   "execution_count": 2,
   "id": "6f60a605-3d56-49a4-93dc-dfdbe26ab3b1",
   "metadata": {},
   "outputs": [
    {
     "name": "stdout",
     "output_type": "stream",
     "text": [
      "15.5\n",
      "python is fun\n"
     ]
    }
   ],
   "source": [
    "a=10\n",
    "b=5.5\n",
    "c=\"python\"\n",
    "print(a+b)\n",
    "d=\" is fun\"\n",
    "print(c+d)"
   ]
  },
  {
   "cell_type": "code",
   "execution_count": 3,
   "id": "a24e1398-6847-4af6-b01d-1d2ede9df150",
   "metadata": {},
   "outputs": [
    {
     "name": "stdin",
     "output_type": "stream",
     "text": [
      "enter a number: 10\n",
      "enter a number: 5\n"
     ]
    },
    {
     "name": "stdout",
     "output_type": "stream",
     "text": [
      "additon: 15\n",
      "subtraction: 5\n",
      "multi: 50\n",
      "div: 2.0\n",
      "floor division: 2\n",
      "modulo: 0\n",
      "exponential: 100000\n"
     ]
    }
   ],
   "source": [
    "a=(int(input(\"enter a number:\")))\n",
    "b=(int(input(\"enter a number:\")))\n",
    "print(\"additon:\",a+b)\n",
    "print(\"subtraction:\",a-b)\n",
    "print(\"multi:\",a*b)\n",
    "print(\"div:\",a/b)\n",
    "print(\"floor division:\",a//b)\n",
    "print(\"modulo:\",a%b)\n",
    "print(\"exponential:\",a**b)\n"
   ]
  },
  {
   "cell_type": "code",
   "execution_count": 4,
   "id": "6fd4f26a-30ea-467f-8cc5-733fcacf48ff",
   "metadata": {},
   "outputs": [
    {
     "name": "stdout",
     "output_type": "stream",
     "text": [
      "you should go outside\n",
      "should not carry umbrella\n"
     ]
    }
   ],
   "source": [
    "is_sunny=True\n",
    "have_umbrella=False\n",
    "should_go_outside=is_sunny or have_umbrella\n",
    "carry_umbrella=not is_sunny\n",
    "if should_go_outside:\n",
    "\tprint(\"you should go outside\")\n",
    "else:\n",
    "\tprint(\"stay inside\")\n",
    "if carry_umbrella:\n",
    "\tprint(\"carry umbrella\")\n",
    "else:\n",
    "\tprint(\"should not carry umbrella\")\n"
   ]
  },
  {
   "cell_type": "code",
   "execution_count": 5,
   "id": "331f2e01-0198-4d1d-8c69-d646a5220b39",
   "metadata": {},
   "outputs": [
    {
     "name": "stdin",
     "output_type": "stream",
     "text": [
      "enter a no: 23\n"
     ]
    },
    {
     "name": "stdout",
     "output_type": "stream",
     "text": [
      "positive no\n"
     ]
    }
   ],
   "source": [
    "n=int(input(\"enter a no:\"))\n",
    "if n>0:\n",
    "\tprint(\"positive no\")\n",
    "elif n==0:\n",
    "\tprint(\"zero\")\n",
    "else:\n",
    "\tprint(\"negative no\")"
   ]
  },
  {
   "cell_type": "code",
   "execution_count": 6,
   "id": "8231de64-755e-43a3-8c68-9459691475a9",
   "metadata": {},
   "outputs": [
    {
     "name": "stdin",
     "output_type": "stream",
     "text": [
      "enter a string: HELLO WORLD\n"
     ]
    },
    {
     "name": "stdout",
     "output_type": "stream",
     "text": [
      "11\n",
      "HELLO WORLD\n",
      "hello world\n",
      "HELLO_WORLD\n"
     ]
    },
    {
     "name": "stdin",
     "output_type": "stream",
     "text": [
      "enter a string: python \n"
     ]
    },
    {
     "name": "stdout",
     "output_type": "stream",
     "text": [
      "python is present\n"
     ]
    }
   ],
   "source": [
    "string=input(\"enter a string:\")\n",
    "character_count = len(string)\n",
    "print(character_count)\n",
    "print(string.upper())\n",
    "print(string.lower())\n",
    "print(string.replace(\" \",\"_\"))\n",
    "\n",
    "\n",
    "st=input(\"enter a string:\")\n",
    "word_to_check=\"python\"\n",
    "if word_to_check in st:\n",
    "\tprint(\"python is present\")\n",
    "else:\n",
    "\tprint(\"python is not present\")"
   ]
  },
  {
   "cell_type": "code",
   "execution_count": 17,
   "id": "96c7a13d-8cae-4f8f-bddf-f53bf28c8a54",
   "metadata": {},
   "outputs": [
    {
     "name": "stdin",
     "output_type": "stream",
     "text": [
      "enter marks: 4\n"
     ]
    },
    {
     "name": "stdout",
     "output_type": "stream",
     "text": [
      "fail\n"
     ]
    }
   ],
   "source": [
    "a=int(input(\"enter marks:\"))\n",
    "if a>=90:\n",
    "    print(\"grade:A\")\n",
    "elif 75<=a<=89:\n",
    "    print(\"grade:B\")\n",
    "elif 60<=a<=74:\n",
    "    print(\"grade:C\")\n",
    "elif 40<=a<=59:\n",
    "    print(\"grade:D\")\n",
    "else:\n",
    "    print(\"fail\")"
   ]
  },
  {
   "cell_type": "code",
   "execution_count": 9,
   "id": "831a88e8-2119-432f-a15b-3e8773a70f9a",
   "metadata": {},
   "outputs": [
    {
     "name": "stdin",
     "output_type": "stream",
     "text": [
      "enter 1st no: 4\n",
      "enter 2nd no: 5\n",
      "select operation:(+,-,*,/) 5\n"
     ]
    },
    {
     "name": "stdout",
     "output_type": "stream",
     "text": [
      "invlid operator\n"
     ]
    }
   ],
   "source": [
    "a=int(input(\"enter 1st no:\"))\n",
    "b=int(input(\"enter 2nd no:\"))\n",
    "operator=(input(\"select operation:(+,-,*,/)\"))\n",
    "if operator == '+':\n",
    "    print(\"addition:\",a+b)\n",
    "elif operator == '-':\n",
    "    print(\"sub:\",a-b)\n",
    "elif operator == '*':\n",
    "    print(\"prdt:\",a*b)\n",
    "elif operator == '/':\n",
    "    if b!=0:\n",
    "        print(\"div:\",a/b)\n",
    "    else:\n",
    "        print(\"division with 0 cannot be done\")\n",
    "else:\n",
    "    print(\"invlid operator\")\n",
    "\n"
   ]
  },
  {
   "cell_type": "code",
   "execution_count": null,
   "id": "12cf99b8-e51c-4e74-ab22-50e592d6afa8",
   "metadata": {},
   "outputs": [],
   "source": []
  }
 ],
 "metadata": {
  "kernelspec": {
   "display_name": "Python 3 (ipykernel)",
   "language": "python",
   "name": "python3"
  },
  "language_info": {
   "codemirror_mode": {
    "name": "ipython",
    "version": 3
   },
   "file_extension": ".py",
   "mimetype": "text/x-python",
   "name": "python",
   "nbconvert_exporter": "python",
   "pygments_lexer": "ipython3",
   "version": "3.10.12"
  }
 },
 "nbformat": 4,
 "nbformat_minor": 5
}
